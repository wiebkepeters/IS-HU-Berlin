{
 "cells": [
  {
   "cell_type": "markdown",
   "metadata": {},
   "source": [
    "# Predictions on Credit Data Set\n",
    "\n",
    "\n",
    "For this task, we will load the data set we used in the EDA session. Recall that this data set was provided by www.creditriskanalytics.com. As a quick reminder: \n",
    "\n",
    "## About the data set\n",
    "\n",
    "The data set consists of 5960 observations and 13 variables. \n",
    "The variables are defined as the following:\n",
    "\n",
    "- BAD: 1=default; 0=non-default\n",
    "- LOAN: amount of the loan request\n",
    "- MORTDUE: amount due on existing mortgage\n",
    "- VALUE: value of current property\n",
    "- REASON: DebtCon=debt consolidation; HomeImp=home improvement\n",
    "- JOB: occupational categories\n",
    "- YOJ: years at present job\n",
    "- DEROG: number of major derogatory reports\n",
    "- DELINQ: number of delinquent credit lines\n",
    "- CLAGE: age of oldest credit line in months\n",
    "- NINQ: number of recent credit inquiries\n",
    "- CLNO: number of credit lines\n",
    "- DEBTINC: debt-to-income ratio\n",
    "\n",
    "<br> <br> <br>\n",
    "This notebook will elaborate on the process of different machine learning techniques and their evaluation, including logistic regression, random forest and gradient boosting.\n",
    "\n",
    "Before applying any algorithm, we will import the necessary packages and load the data. After, we will quickly display some general information about the data set to help us recall. If you are not familiar with this data set, please look at the explanatory data analysis notebook to ensure you understand the data before interpreting the results later. There you can also see the original values of all numeric variables before standardization.\n",
    "\n",
    "An important finding is the imbalance of the data set, which contains only about 20% of 'BAD' observations. \n"
   ]
  },
  {
   "cell_type": "code",
   "execution_count": 300,
   "metadata": {},
   "outputs": [],
   "source": [
    "#Import packages\n",
    "import importlib\n",
    "import numpy as np\n",
    "import pandas as pd\n",
    "\n",
    "import matplotlib.pyplot as plt\n",
    "import statsmodels.api as stat\n",
    "import xgboost as xgb\n",
    "from sklearn import metrics\n",
    "from sklearn.ensemble import RandomForestClassifier\n",
    "from sklearn.linear_model import LogisticRegression\n",
    "from sklearn.model_selection import train_test_split, StratifiedKFold, GridSearchCV\n"
   ]
  },
  {
   "cell_type": "code",
   "execution_count": 301,
   "metadata": {},
   "outputs": [
    {
     "data": {
      "text/html": [
       "<div>\n",
       "<style scoped>\n",
       "    .dataframe tbody tr th:only-of-type {\n",
       "        vertical-align: middle;\n",
       "    }\n",
       "\n",
       "    .dataframe tbody tr th {\n",
       "        vertical-align: top;\n",
       "    }\n",
       "\n",
       "    .dataframe thead th {\n",
       "        text-align: right;\n",
       "    }\n",
       "</style>\n",
       "<table border=\"1\" class=\"dataframe\">\n",
       "  <thead>\n",
       "    <tr style=\"text-align: right;\">\n",
       "      <th></th>\n",
       "      <th>BAD</th>\n",
       "      <th>LOAN</th>\n",
       "      <th>MORTDUE</th>\n",
       "      <th>VALUE</th>\n",
       "      <th>YOJ</th>\n",
       "      <th>DEROG</th>\n",
       "      <th>DELINQ</th>\n",
       "      <th>CLAGE</th>\n",
       "      <th>NINQ</th>\n",
       "      <th>CLNO</th>\n",
       "      <th>DEBTINC</th>\n",
       "    </tr>\n",
       "  </thead>\n",
       "  <tbody>\n",
       "    <tr>\n",
       "      <th>count</th>\n",
       "      <td>5960.000000</td>\n",
       "      <td>5.960000e+03</td>\n",
       "      <td>5.960000e+03</td>\n",
       "      <td>5.960000e+03</td>\n",
       "      <td>5.960000e+03</td>\n",
       "      <td>5.960000e+03</td>\n",
       "      <td>5.960000e+03</td>\n",
       "      <td>5.960000e+03</td>\n",
       "      <td>5.960000e+03</td>\n",
       "      <td>5.960000e+03</td>\n",
       "      <td>5.960000e+03</td>\n",
       "    </tr>\n",
       "    <tr>\n",
       "      <th>mean</th>\n",
       "      <td>0.199497</td>\n",
       "      <td>-9.123202e-16</td>\n",
       "      <td>6.588596e-16</td>\n",
       "      <td>-8.776630e-16</td>\n",
       "      <td>1.417397e-16</td>\n",
       "      <td>3.113794e-16</td>\n",
       "      <td>-9.155987e-16</td>\n",
       "      <td>-1.203363e-16</td>\n",
       "      <td>-1.761455e-16</td>\n",
       "      <td>1.181139e-15</td>\n",
       "      <td>1.265040e-15</td>\n",
       "    </tr>\n",
       "    <tr>\n",
       "      <th>std</th>\n",
       "      <td>0.399656</td>\n",
       "      <td>1.000084e+00</td>\n",
       "      <td>1.000084e+00</td>\n",
       "      <td>1.000084e+00</td>\n",
       "      <td>1.000084e+00</td>\n",
       "      <td>1.000084e+00</td>\n",
       "      <td>1.000084e+00</td>\n",
       "      <td>1.000084e+00</td>\n",
       "      <td>1.000084e+00</td>\n",
       "      <td>1.000084e+00</td>\n",
       "      <td>1.000084e+00</td>\n",
       "    </tr>\n",
       "    <tr>\n",
       "      <th>min</th>\n",
       "      <td>0.000000</td>\n",
       "      <td>-1.562299e+00</td>\n",
       "      <td>-1.424276e+00</td>\n",
       "      <td>-1.707224e+00</td>\n",
       "      <td>-1.168611e+00</td>\n",
       "      <td>-1.239592e+00</td>\n",
       "      <td>-1.133918e+00</td>\n",
       "      <td>-1.850350e+00</td>\n",
       "      <td>-1.134248e+00</td>\n",
       "      <td>-1.986375e+00</td>\n",
       "      <td>-1.696035e+00</td>\n",
       "    </tr>\n",
       "    <tr>\n",
       "      <th>25%</th>\n",
       "      <td>0.000000</td>\n",
       "      <td>-6.699632e-01</td>\n",
       "      <td>-5.995930e-01</td>\n",
       "      <td>-5.960053e-01</td>\n",
       "      <td>-7.818625e-01</td>\n",
       "      <td>-1.183341e-01</td>\n",
       "      <td>-2.672662e-01</td>\n",
       "      <td>-6.773687e-01</td>\n",
       "      <td>-5.668382e-01</td>\n",
       "      <td>-5.983115e-01</td>\n",
       "      <td>-3.744374e-01</td>\n",
       "    </tr>\n",
       "    <tr>\n",
       "      <th>50%</th>\n",
       "      <td>0.000000</td>\n",
       "      <td>-2.059485e-01</td>\n",
       "      <td>-1.186451e-01</td>\n",
       "      <td>-1.975027e-01</td>\n",
       "      <td>-2.661978e-01</td>\n",
       "      <td>-1.183341e-01</td>\n",
       "      <td>-2.672662e-01</td>\n",
       "      <td>-4.046820e-02</td>\n",
       "      <td>-5.668382e-01</td>\n",
       "      <td>-4.308588e-02</td>\n",
       "      <td>3.429367e-01</td>\n",
       "    </tr>\n",
       "    <tr>\n",
       "      <th>75%</th>\n",
       "      <td>0.000000</td>\n",
       "      <td>4.186868e-01</td>\n",
       "      <td>4.409223e-01</td>\n",
       "      <td>3.272283e-01</td>\n",
       "      <td>5.072992e-01</td>\n",
       "      <td>-1.183341e-01</td>\n",
       "      <td>-2.672662e-01</td>\n",
       "      <td>6.122157e-01</td>\n",
       "      <td>5.679806e-01</td>\n",
       "      <td>5.121397e-01</td>\n",
       "      <td>7.161369e-01</td>\n",
       "    </tr>\n",
       "    <tr>\n",
       "      <th>max</th>\n",
       "      <td>1.000000</td>\n",
       "      <td>6.361645e+00</td>\n",
       "      <td>7.025058e+00</td>\n",
       "      <td>1.292491e+01</td>\n",
       "      <td>4.245868e+00</td>\n",
       "      <td>1.109425e+01</td>\n",
       "      <td>1.273251e+01</td>\n",
       "      <td>1.077030e+01</td>\n",
       "      <td>9.079122e+00</td>\n",
       "      <td>4.676332e+00</td>\n",
       "      <td>1.095704e+01</td>\n",
       "    </tr>\n",
       "  </tbody>\n",
       "</table>\n",
       "</div>"
      ],
      "text/plain": [
       "               BAD          LOAN       MORTDUE         VALUE           YOJ  \\\n",
       "count  5960.000000  5.960000e+03  5.960000e+03  5.960000e+03  5.960000e+03   \n",
       "mean      0.199497 -9.123202e-16  6.588596e-16 -8.776630e-16  1.417397e-16   \n",
       "std       0.399656  1.000084e+00  1.000084e+00  1.000084e+00  1.000084e+00   \n",
       "min       0.000000 -1.562299e+00 -1.424276e+00 -1.707224e+00 -1.168611e+00   \n",
       "25%       0.000000 -6.699632e-01 -5.995930e-01 -5.960053e-01 -7.818625e-01   \n",
       "50%       0.000000 -2.059485e-01 -1.186451e-01 -1.975027e-01 -2.661978e-01   \n",
       "75%       0.000000  4.186868e-01  4.409223e-01  3.272283e-01  5.072992e-01   \n",
       "max       1.000000  6.361645e+00  7.025058e+00  1.292491e+01  4.245868e+00   \n",
       "\n",
       "              DEROG        DELINQ         CLAGE          NINQ          CLNO  \\\n",
       "count  5.960000e+03  5.960000e+03  5.960000e+03  5.960000e+03  5.960000e+03   \n",
       "mean   3.113794e-16 -9.155987e-16 -1.203363e-16 -1.761455e-16  1.181139e-15   \n",
       "std    1.000084e+00  1.000084e+00  1.000084e+00  1.000084e+00  1.000084e+00   \n",
       "min   -1.239592e+00 -1.133918e+00 -1.850350e+00 -1.134248e+00 -1.986375e+00   \n",
       "25%   -1.183341e-01 -2.672662e-01 -6.773687e-01 -5.668382e-01 -5.983115e-01   \n",
       "50%   -1.183341e-01 -2.672662e-01 -4.046820e-02 -5.668382e-01 -4.308588e-02   \n",
       "75%   -1.183341e-01 -2.672662e-01  6.122157e-01  5.679806e-01  5.121397e-01   \n",
       "max    1.109425e+01  1.273251e+01  1.077030e+01  9.079122e+00  4.676332e+00   \n",
       "\n",
       "            DEBTINC  \n",
       "count  5.960000e+03  \n",
       "mean   1.265040e-15  \n",
       "std    1.000084e+00  \n",
       "min   -1.696035e+00  \n",
       "25%   -3.744374e-01  \n",
       "50%    3.429367e-01  \n",
       "75%    7.161369e-01  \n",
       "max    1.095704e+01  "
      ]
     },
     "execution_count": 301,
     "metadata": {},
     "output_type": "execute_result"
    }
   ],
   "source": [
    "# Load data\n",
    "credit = pd.read_csv('/Users/wiebkeberlin/Desktop/creditnew.csv')\n",
    "credit.describe()"
   ]
  },
  {
   "cell_type": "markdown",
   "metadata": {},
   "source": [
    "# Problem to solve \n",
    "\n",
    "\n",
    "This data set stages a common problem for banks and lenders. It is important, that banks can ensure which people are likely to pay back a loan and which are likely to default, as obviously wrong decisions could lead to high losses. This data set contains information about the customers as well as the outcome variable 'BAD'. This allows us to find generalizable patterns in these two groups ('GOOD' and 'BAD') through supervised machine learning.\n",
    "\n",
    "\n",
    "# Let's get started\n",
    "\n",
    "\n",
    "Before we apply any algorithms to our data, we need to ensure that it is in the right format. Not every algorithm can handle categorical variables. The way to overcome this obstacle is by using dummy variables.\n",
    "\n"
   ]
  },
  {
   "cell_type": "code",
   "execution_count": 302,
   "metadata": {},
   "outputs": [
    {
     "name": "stdout",
     "output_type": "stream",
     "text": [
      "<class 'pandas.core.frame.DataFrame'>\n",
      "RangeIndex: 5960 entries, 0 to 5959\n",
      "Data columns (total 13 columns):\n",
      " #   Column   Non-Null Count  Dtype  \n",
      "---  ------   --------------  -----  \n",
      " 0   BAD      5960 non-null   int64  \n",
      " 1   REASON   5960 non-null   object \n",
      " 2   JOB      5960 non-null   object \n",
      " 3   LOAN     5960 non-null   float64\n",
      " 4   MORTDUE  5960 non-null   float64\n",
      " 5   VALUE    5960 non-null   float64\n",
      " 6   YOJ      5960 non-null   float64\n",
      " 7   DEROG    5960 non-null   float64\n",
      " 8   DELINQ   5960 non-null   float64\n",
      " 9   CLAGE    5960 non-null   float64\n",
      " 10  NINQ     5960 non-null   float64\n",
      " 11  CLNO     5960 non-null   float64\n",
      " 12  DEBTINC  5960 non-null   float64\n",
      "dtypes: float64(10), int64(1), object(2)\n",
      "memory usage: 605.4+ KB\n"
     ]
    }
   ],
   "source": [
    "credit.info()\n"
   ]
  },
  {
   "cell_type": "markdown",
   "metadata": {},
   "source": [
    "### Dummy Variables: What are they and why do we use them?\n",
    "\n",
    "A dummy variables is a binary vectors of a specific category of a variable. For example, a vector for the variable 'JOB' and category 'Office'. In this vector the value would  a 1 for every observation with an office job, and 0 for all others. \n",
    "\n",
    "We require dummy encoding as categorical data is common and carries valuable information, however, are not able to be interpreted by all algorithms.\n",
    "\n",
    "This can be clarified through the example of a logistic regression. Regression analysis is common practice for using a continuous variable (e.g. 'LOAN') to predict the independent variable ('BAD' in this example). As you cannot rank and/or calculate a meaningful distance between categories, this interpretation is not possible. However, if we split up these variable into the earlier described dummy variables, we create a numeric variable by only using the number 0 and 1. The new variables will then be used as input for the categorical variable. In our case, we would have 6 different dummy variables for the variable 'JOB' as it had 6 categories. \n",
    "\n",
    "(\n",
    "However, regression settings also have problems with multicollinearity. This means, if we incorporate all six new dummy variables, we will encounter a problem. If we would, the sum of the 6 vectors would result in the value 1 for every observation. If this is to abstract for you, let's look at this by using an example. One observation's (all other variables excluded) dummy variables for the category 'JOB'.\n",
    "\n",
    "|  JOB_Mgr \t| JOB_Office  \t| JOB_Other  \t| JOB_ProfExe  \t| JOB_Sales  \t| JOB_Self  \t|\n",
    "|---\t|---\t|---\t|---\t|---\t|---\t|\n",
    "|   0\t|   0\t|   0\t|   0\t|   0\t|   1\t|\n",
    " \n",
    "    \n",
    "However, the value 0 for all other categories ('Mgr', 'Office', 'Other', 'ProxExe' and 'Sales') already indicates that the job must be the category 'Self'. Therefore, one vector is redundant. And that is what multicollinearity is about. Multicollinearity is the high correlations among independent variables in a regression setting. Therefore, we can escape the so called dummy trap by dropping one dummy variable for each category. \n",
    "\n",
    "\n",
    "So, firstly, we will create the dummy variables.\n",
    "\n",
    "\n"
   ]
  },
  {
   "cell_type": "code",
   "execution_count": 303,
   "metadata": {},
   "outputs": [],
   "source": [
    "credittemp = pd.get_dummies(credit, drop_first= True)"
   ]
  },
  {
   "cell_type": "code",
   "execution_count": 304,
   "metadata": {},
   "outputs": [
    {
     "data": {
      "text/html": [
       "<div>\n",
       "<style scoped>\n",
       "    .dataframe tbody tr th:only-of-type {\n",
       "        vertical-align: middle;\n",
       "    }\n",
       "\n",
       "    .dataframe tbody tr th {\n",
       "        vertical-align: top;\n",
       "    }\n",
       "\n",
       "    .dataframe thead th {\n",
       "        text-align: right;\n",
       "    }\n",
       "</style>\n",
       "<table border=\"1\" class=\"dataframe\">\n",
       "  <thead>\n",
       "    <tr style=\"text-align: right;\">\n",
       "      <th></th>\n",
       "      <th>REASON_HomeImp</th>\n",
       "      <th>JOB_Office</th>\n",
       "      <th>JOB_Other</th>\n",
       "      <th>JOB_ProfExe</th>\n",
       "      <th>JOB_Sales</th>\n",
       "      <th>JOB_Self</th>\n",
       "    </tr>\n",
       "  </thead>\n",
       "  <tbody>\n",
       "    <tr>\n",
       "      <th>count</th>\n",
       "      <td>5960.000000</td>\n",
       "      <td>5960.000000</td>\n",
       "      <td>5960.000000</td>\n",
       "      <td>5960.000000</td>\n",
       "      <td>5960.000000</td>\n",
       "      <td>5960.000000</td>\n",
       "    </tr>\n",
       "    <tr>\n",
       "      <th>mean</th>\n",
       "      <td>0.298658</td>\n",
       "      <td>0.159060</td>\n",
       "      <td>0.447483</td>\n",
       "      <td>0.214094</td>\n",
       "      <td>0.018289</td>\n",
       "      <td>0.032383</td>\n",
       "    </tr>\n",
       "    <tr>\n",
       "      <th>std</th>\n",
       "      <td>0.457708</td>\n",
       "      <td>0.365763</td>\n",
       "      <td>0.497276</td>\n",
       "      <td>0.410227</td>\n",
       "      <td>0.134004</td>\n",
       "      <td>0.177029</td>\n",
       "    </tr>\n",
       "    <tr>\n",
       "      <th>min</th>\n",
       "      <td>0.000000</td>\n",
       "      <td>0.000000</td>\n",
       "      <td>0.000000</td>\n",
       "      <td>0.000000</td>\n",
       "      <td>0.000000</td>\n",
       "      <td>0.000000</td>\n",
       "    </tr>\n",
       "    <tr>\n",
       "      <th>25%</th>\n",
       "      <td>0.000000</td>\n",
       "      <td>0.000000</td>\n",
       "      <td>0.000000</td>\n",
       "      <td>0.000000</td>\n",
       "      <td>0.000000</td>\n",
       "      <td>0.000000</td>\n",
       "    </tr>\n",
       "    <tr>\n",
       "      <th>50%</th>\n",
       "      <td>0.000000</td>\n",
       "      <td>0.000000</td>\n",
       "      <td>0.000000</td>\n",
       "      <td>0.000000</td>\n",
       "      <td>0.000000</td>\n",
       "      <td>0.000000</td>\n",
       "    </tr>\n",
       "    <tr>\n",
       "      <th>75%</th>\n",
       "      <td>1.000000</td>\n",
       "      <td>0.000000</td>\n",
       "      <td>1.000000</td>\n",
       "      <td>0.000000</td>\n",
       "      <td>0.000000</td>\n",
       "      <td>0.000000</td>\n",
       "    </tr>\n",
       "    <tr>\n",
       "      <th>max</th>\n",
       "      <td>1.000000</td>\n",
       "      <td>1.000000</td>\n",
       "      <td>1.000000</td>\n",
       "      <td>1.000000</td>\n",
       "      <td>1.000000</td>\n",
       "      <td>1.000000</td>\n",
       "    </tr>\n",
       "  </tbody>\n",
       "</table>\n",
       "</div>"
      ],
      "text/plain": [
       "       REASON_HomeImp   JOB_Office    JOB_Other  JOB_ProfExe    JOB_Sales  \\\n",
       "count     5960.000000  5960.000000  5960.000000  5960.000000  5960.000000   \n",
       "mean         0.298658     0.159060     0.447483     0.214094     0.018289   \n",
       "std          0.457708     0.365763     0.497276     0.410227     0.134004   \n",
       "min          0.000000     0.000000     0.000000     0.000000     0.000000   \n",
       "25%          0.000000     0.000000     0.000000     0.000000     0.000000   \n",
       "50%          0.000000     0.000000     0.000000     0.000000     0.000000   \n",
       "75%          1.000000     0.000000     1.000000     0.000000     0.000000   \n",
       "max          1.000000     1.000000     1.000000     1.000000     1.000000   \n",
       "\n",
       "          JOB_Self  \n",
       "count  5960.000000  \n",
       "mean      0.032383  \n",
       "std       0.177029  \n",
       "min       0.000000  \n",
       "25%       0.000000  \n",
       "50%       0.000000  \n",
       "75%       0.000000  \n",
       "max       1.000000  "
      ]
     },
     "execution_count": 304,
     "metadata": {},
     "output_type": "execute_result"
    }
   ],
   "source": [
    "credittemp.select_dtypes(include='uint8').describe()\n"
   ]
  },
  {
   "cell_type": "markdown",
   "metadata": {},
   "source": [
    "Have a closer look at this table. What information can we draw from this table? What does the mean indicate?\n",
    "\n",
    "\n",
    "<br> <br> <br>"
   ]
  },
  {
   "cell_type": "code",
   "execution_count": 305,
   "metadata": {},
   "outputs": [
    {
     "name": "stdout",
     "output_type": "stream",
     "text": [
      "<class 'pandas.core.frame.DataFrame'>\n",
      "RangeIndex: 5960 entries, 0 to 5959\n",
      "Data columns (total 17 columns):\n",
      " #   Column          Non-Null Count  Dtype  \n",
      "---  ------          --------------  -----  \n",
      " 0   BAD             5960 non-null   float64\n",
      " 1   LOAN            5960 non-null   float64\n",
      " 2   MORTDUE         5960 non-null   float64\n",
      " 3   VALUE           5960 non-null   float64\n",
      " 4   YOJ             5960 non-null   float64\n",
      " 5   DEROG           5960 non-null   float64\n",
      " 6   DELINQ          5960 non-null   float64\n",
      " 7   CLAGE           5960 non-null   float64\n",
      " 8   NINQ            5960 non-null   float64\n",
      " 9   CLNO            5960 non-null   float64\n",
      " 10  DEBTINC         5960 non-null   float64\n",
      " 11  REASON_HomeImp  5960 non-null   float64\n",
      " 12  JOB_Office      5960 non-null   float64\n",
      " 13  JOB_Other       5960 non-null   float64\n",
      " 14  JOB_ProfExe     5960 non-null   float64\n",
      " 15  JOB_Sales       5960 non-null   float64\n",
      " 16  JOB_Self        5960 non-null   float64\n",
      "dtypes: float64(17)\n",
      "memory usage: 791.7 KB\n"
     ]
    }
   ],
   "source": [
    "# allow input to all algorithms\n",
    "credit = credittemp.astype('float64')\n",
    "\n",
    "credit.info()\n"
   ]
  },
  {
   "cell_type": "markdown",
   "metadata": {},
   "source": [
    "## Simulation of model application\n",
    "\n",
    "One of the core tasks in model building is the robust model simulation of our model. What does this mean?\n",
    "\n",
    "We build a model on our data. But how do we ensure, that our model finds generalizable patterns in the data opposed to just describing this particular sample. And there are several ways you can do this.\n",
    "\n",
    "Whilst this will become more clear when evaluating the different models,the data needs to be handled beforehand.\n",
    "\n",
    "\n",
    "### From the resubstitution estimate to the split-sample method\n",
    "\n",
    "The most simple way is building a model on the whole data set and using the same data to make predictions. These predictions will be compared to the actuals (target variable column) to assess the model performance. The resubstitution estimate however often leads to the problem mentioned above. \n",
    "\n",
    "One of the most common methods is the split-sample method.\n",
    "The method can by implemented by splitting the data into a minimum of two sets: train and test set. This means, we train a model on a random subset of our data set, the training set. Then we use the remaining instances, the test set, also called hold out data, for model assessment. In order to evaluate the performance, we compute predictions of the test set with the model built on the training set. We compare these predictions to the actuals in the test set. \n",
    "\n",
    "\n",
    "The meta-parameter of the split-sample method is the size of the training and test set\n",
    "\n",
    "\n",
    "\n"
   ]
  },
  {
   "cell_type": "code",
   "execution_count": 306,
   "metadata": {},
   "outputs": [],
   "source": [
    "#data partitioning\n",
    "#split outcome variable and the rest of the variables into two sets\n",
    "y= credit.BAD\n",
    "x = credit.drop('BAD', axis=1)\n",
    "\n",
    "# create training and test set\n",
    "# x_train = all columns but 'BAD' of training set (needed to build supervised learning model)\n",
    "# y_train = outcome variable of training observations (needed to build supervised learning model)\n",
    "# x_test = all columns but 'BAD' of test set (needed to predict outcome of test set with training set model)\n",
    "# y_test = outcome variable of test observations (needed for model assessment)\n",
    "x_train, x_test, y_train, y_test = train_test_split(x,y, test_size=0.2 )\n",
    "\n",
    "# 20& of data in hold out data\n"
   ]
  },
  {
   "cell_type": "code",
   "execution_count": 307,
   "metadata": {},
   "outputs": [
    {
     "data": {
      "text/plain": [
       "((4768,), (1192,), (4768, 16), (1192, 16))"
      ]
     },
     "execution_count": 307,
     "metadata": {},
     "output_type": "execute_result"
    }
   ],
   "source": [
    "y_train.shape, y_test.shape, x_train.shape, x_test.shape"
   ]
  },
  {
   "cell_type": "markdown",
   "metadata": {},
   "source": [
    "## Supervised Learning Algorithm\n",
    "\n",
    "\n",
    "### Logistic Regression\n",
    "\n",
    "Logistic regression or logit model is a classification technique. The outcome variable in this model is binary, 1 indicating 'BAD'.In this case, the predictions estimate a probability between 0 and 1 of the loan being defaulted on.\n",
    "\n",
    "\n",
    "*(maybe add more here later)*\n",
    "\n",
    "\n",
    "\n",
    "\n",
    "\n",
    "\n",
    "\n",
    "\n",
    "\n"
   ]
  },
  {
   "cell_type": "code",
   "execution_count": 308,
   "metadata": {},
   "outputs": [
    {
     "name": "stdout",
     "output_type": "stream",
     "text": [
      "LogisticRegression(C=1.0, class_weight=None, dual=False, fit_intercept=True,\n",
      "                   intercept_scaling=1, l1_ratio=None, max_iter=500,\n",
      "                   multi_class='auto', n_jobs=None, penalty='none',\n",
      "                   random_state=None, solver='lbfgs', tol=0.0001, verbose=0,\n",
      "                   warm_start=False)\n",
      "Accuracy on train data: 0.8763\n",
      "Accuracy on test data: 0.8742\n"
     ]
    }
   ],
   "source": [
    "sk_logit= LogisticRegression(penalty='none', fit_intercept=True, max_iter=500)\n",
    "log = sk_logit.fit(x_train, y_train)\n",
    "# todo add code to store all performance values in a dataframe\n",
    "#print('Accuracy: {0}'.format(sk_logit.score(train, y.TARGET)))\n",
    "\n",
    "print(log)\n",
    "accuracy=list()\n",
    "accuracy.append(log.score)\n",
    "\n",
    "print('Accuracy on train data: {:.4f}'.format(sk_logit.score(x_train, y_train)))\n",
    "print('Accuracy on test data: {:.4f}'.format(sk_logit.score(x_test, y_test)));\n",
    "\n"
   ]
  },
  {
   "cell_type": "markdown",
   "metadata": {},
   "source": [
    "## Evaluation methods\n",
    "\n",
    "Evaluation methods are those that help us evaluate how well our model managed to predict the given cases. A common practice is comparing the actuals to the predictions. Meaning, just as we did, we predict the outcome variable of the test set, based on each observations attributes. We then compare these results to \"y_test\", our actuals, as we started out with a labeled data set and know the outcome.\n",
    "\n",
    "\n",
    "### Accuracy and its shortcomings\n",
    "\n",
    "Accuracy in particular  is a threshold metric. It compares the model performance over one threshold. If not specified, this threshold usually is 0.5. But predictive accuracy does therefore gives insufficient information. Changing the threshold can change the accuracy a lot, eventhough the model stays the same. This is particularly true in imbalanced data sets like this. Let me give you an examplary scenario: We have 100 observations. 5 observations are of the class 'BAD' and 95 of the class 'GOOD'. So even without finding any generalizable patterns, classifying all observations as good would still result in an accuracy of 95%. To ensure robustness of our model, we want to avoid this. \n",
    "\n",
    "In our case, the accuracy is just under the accuracy of the training data. We've included both for comparison and as it can be a first indicator for overfitting (high score on training data, low on test). In our case however, it looks acceptable.\n",
    "\n",
    "\n",
    "A good way to overcome these issues is by using the ROC curve and AUC. But let's take it step by step. We are starting off with the confusion matrix.\n",
    "\n",
    "\n",
    "\n",
    "\n",
    "\n",
    "### Confusion matrix\n",
    "\n"
   ]
  },
  {
   "cell_type": "code",
   "execution_count": 309,
   "metadata": {},
   "outputs": [
    {
     "name": "stdout",
     "output_type": "stream",
     "text": [
      "[[934  31]\n",
      " [119 108]]\n"
     ]
    },
    {
     "data": {
      "image/png": "[encoded data removed]",
      "text/plain": [
       "<Figure size 1440x720 with 2 Axes>"
      ]
     },
     "metadata": {
      "needs_background": "light"
     },
     "output_type": "display_data"
    }
   ],
   "source": [
    "# 1. Quick and dirty way\n",
    "cmat = metrics.confusion_matrix(y_test, sk_logit.predict(x_test))\n",
    "print(cmat)\n",
    "# 2. Pretty-print confusion matrix\n",
    "metrics.plot_confusion_matrix(sk_logit, x_test, y_test, labels=[0, 1], display_labels=['Goods(0)', 'Bads(1)'], cmap='Blues',values_format='n')\n",
    "plt.show()\n",
    "\n"
   ]
  },
  {
   "cell_type": "markdown",
   "metadata": {},
   "source": [
    "What can we see on this table? Do you think, this is a good model? How do you calculate the accuracy from this table? Hint: remind yourself of how the variable BAD is distributed. \n",
    "Are both outcomes the same?\n",
    "\n",
    "A great way to overcome some of these shortcomings is creating the ROC curve and calculating the AUC. For that we will need the True Positive Rate and False Positive Rate. Again, remind yourself that for this confusion matrix we would only consider one cut-off. To create a ROC curve this is done for all cut-offs.\n",
    "The formulas as a quick reminder:\n",
    "We are working with a boolean outcome variable in which 1 indicates 'BAD'. So the TPR and FPR will refer to 'BAD' as a positive. <br> <br>\n",
    "TPR: 113/ (113+131) | True Positive / (all actual positives)\n",
    "\n",
    "FPR: 36/(912+36)    | False Positive/ (actual no)"
   ]
  },
  {
   "cell_type": "markdown",
   "metadata": {},
   "source": [
    "(info about confusion matrix here)"
   ]
  },
  {
   "cell_type": "markdown",
   "metadata": {},
   "source": [
    "# ROC Curve and AUC\n",
    "\n",
    "This is one of the most important evaluation metrics, specifically it is a ranking method. Have a look at the graph below. The curve tells us how well the model differntiates the two classes, in regards to their predicted probabilities.\n",
    "A ROC curve has the FPR on the X-axis and FPR on the Y-axis.\n",
    "The curve is made up out of all the different combinations of TPR and FPR at all threshold, creating a line.\n",
    "\n",
    "The AUC stand for the Area under the Curvea and is a ranking indicator. The AUC estimates the probability that a randomly\n",
    "chosen positive instance is correctly ranked higher than a randomly chosen negative (Hanley and McNeil, 1983) . We calculate this area, as our goal is to have a FPR of 0 and a TPR of 1. This would be the perfect model. This point is in the top right corner of a ROC Curve. So the closer we get to that point, the better the model and the bigger the area under it. . It is popular as it allows comparison of different kind of models.\n",
    "\n",
    "So, we can plot the curve for both the training and test set evaluation.\n"
   ]
  },
  {
   "cell_type": "code",
   "execution_count": 310,
   "metadata": {},
   "outputs": [
    {
     "data": {
      "image/png": "[encoded data removed]",
      "text/plain": [
       "<Figure size 1440x720 with 1 Axes>"
      ]
     },
     "metadata": {
      "needs_background": "light"
     },
     "output_type": "display_data"
    },
    {
     "data": {
      "image/png": "[encoded data removed]",
      "text/plain": [
       "<Figure size 1440x720 with 1 Axes>"
      ]
     },
     "metadata": {
      "needs_background": "light"
     },
     "output_type": "display_data"
    }
   ],
   "source": [
    "# simple way\n",
    "\n",
    "\n",
    "metrics.plot_roc_curve(log, x_train, y_train)\n",
    "plt.title('ROC curve of logit model on train')\n",
    "plt.plot([0, 1], [0, 1], \"r--\")\n",
    "\n",
    "metrics.plot_roc_curve(log, x_test, y_test);\n",
    "plt.title('ROC curve of logit model on test')\n",
    "plt.plot([0, 1], [0, 1], \"r--\")\n",
    "plt.show()\n",
    "\n"
   ]
  },
  {
   "cell_type": "markdown",
   "metadata": {},
   "source": [
    "Can you spot differences? Does a similar AUC indicate anything, considering we have evaluated both training and test set? Remember, evaluating using the training set is equivalent to the resubstitution estimate.\n",
    "\n",
    "To make sure you understand how to extract the necessary metrics, we will compute the ROC Curve manually."
   ]
  },
  {
   "cell_type": "code",
   "execution_count": 311,
   "metadata": {},
   "outputs": [
    {
     "name": "stdout",
     "output_type": "stream",
     "text": [
      "AUC on training data: 0.8362\n"
     ]
    },
    {
     "data": {
      "image/png": "[encoded data removed]",
      "text/plain": [
       "<Figure size 1440x720 with 1 Axes>"
      ]
     },
     "metadata": {
      "needs_background": "light"
     },
     "output_type": "display_data"
    }
   ],
   "source": [
    "# Example how to 'manually' plot the ROC curve\n",
    "yhat_logit = log.predict_proba(x_test)[:, 1]\n",
    "fp_rate, tp_rate, _ = metrics.roc_curve(y_test, yhat_logit) #extracting FPR and TPR\n",
    "roc_auc = metrics.auc(fp_rate, tp_rate) #extract AUC value\n",
    "print('AUC on training data: {:.4f}'.format(roc_auc))\n",
    "plt.title('ROC curve of logit model on test')\n",
    "plt.plot(fp_rate, tp_rate, \"b\", label=\"AUC = %0.2f\" % roc_auc)\n",
    "plt.legend(loc=\"lower right\")\n",
    "plt.plot([0, 1], [0, 1], \"r--\")\n",
    "plt.xlim([-0.1, 1.2])\n",
    "plt.ylim([-0.1, 1.2])\n",
    "plt.ylabel(\"True Positive Rate\")\n",
    "plt.xlabel(\"False Positive Rate\")\n",
    "plt.show()\n"
   ]
  },
  {
   "cell_type": "markdown",
   "metadata": {},
   "source": [
    "Let's make sure we save our results so we can later establish which is our best model.\n"
   ]
  },
  {
   "cell_type": "code",
   "execution_count": 312,
   "metadata": {},
   "outputs": [],
   "source": [
    "fpr_results = []   # but find better way to save this later\n",
    "fpr_results.append(fp_rate)\n",
    "tpr_results = []\n",
    "tpr_results.append(tp_rate)\n",
    "auc_results =  []\n",
    "auc_results.append(roc_auc)"
   ]
  },
  {
   "cell_type": "code",
   "execution_count": 313,
   "metadata": {},
   "outputs": [],
   "source": [
    "fpr_results.append(fp_rate)\n",
    "tpr_results[1:4] = []\n",
    "tpr_results.append(tp_rate)\n",
    "auc_results[1:4] = []\n",
    "auc.append(roc_auc)"
   ]
  },
  {
   "cell_type": "code",
   "execution_count": 314,
   "metadata": {},
   "outputs": [],
   "source": [
    "#try and compute average as well and plot that"
   ]
  },
  {
   "cell_type": "markdown",
   "metadata": {},
   "source": [
    "# Cross-validation (model simulation)\n",
    "\n",
    "Cross validation is an extendend approach of the split sample method. It consists of repeating the split sample method multiple times.\n",
    "\n",
    "Step by step:\n",
    "    -randomly split data in N disjoint folds (E.g., N=5) \n",
    "    -Build model on N-1 folds and validate that model on thw remaining fold \n",
    "- Apply trained model to predict cases in the validation sample (hold-out data) \n",
    "- measure model performance \n",
    "- Repeat N times and average \n",
    "- average model performance over validation folds gives performance estimate \n",
    "- Can also estimate standard deviation (e.g., for statistical hypothesis testing)"
   ]
  },
  {
   "cell_type": "code",
   "execution_count": 315,
   "metadata": {},
   "outputs": [
    {
     "name": "stdout",
     "output_type": "stream",
     "text": [
      "Cross-validating the logit model:\n",
      "\tCV iter: 0 with AUC=0.8436679790026247\n",
      "Average AUC during cross-validation: 0.8437\n",
      "\tCV iter: 1 with AUC=0.8366961942257218\n",
      "Average AUC during cross-validation: 0.8402\n",
      "\tCV iter: 2 with AUC=0.8540026246719159\n",
      "Average AUC during cross-validation: 0.8448\n",
      "\tCV iter: 3 with AUC=0.8616305774278215\n",
      "Average AUC during cross-validation: 0.8490\n",
      "\tCV iter: 4 with AUC=0.8559984689413823\n",
      "Average AUC during cross-validation: 0.8504\n",
      "\tCV iter: 5 with AUC=0.817503280839895\n",
      "Average AUC during cross-validation: 0.8449\n",
      "\tCV iter: 6 with AUC=0.8780249593054802\n",
      "Average AUC during cross-validation: 0.8496\n",
      "\tCV iter: 7 with AUC=0.837683125339121\n",
      "Average AUC during cross-validation: 0.8482\n",
      "\tCV iter: 8 with AUC=0.8550712719298245\n",
      "Average AUC during cross-validation: 0.8489\n",
      "\tCV iter: 9 with AUC=0.8633223684210527\n",
      "Average AUC during cross-validation: 0.8504\n"
     ]
    },
    {
     "data": {
      "image/png": "[encoded data removed]",
      "text/plain": [
       "<Figure size 864x864 with 1 Axes>"
      ]
     },
     "metadata": {
      "needs_background": "light"
     },
     "output_type": "display_data"
    }
   ],
   "source": [
    "plt.figure(figsize=[12,12])\n",
    "import matplotlib.pyplot as plt\n",
    "resultscv = list()\n",
    "tpr= list()\n",
    "fpr=list()\n",
    "nfold = 10\n",
    "cv = StratifiedKFold(n_splits=nfold)\n",
    "cv_auc = np.zeros(nfold)\n",
    "cv_auc[cv_auc == 0] = 'nan' #for now, to avoid 0 values to be taken into account for average\n",
    "\n",
    "print('Cross-validating the logit model:')\n",
    "for i, (tr_idx, vl_idx) in enumerate(cv.split(x_train, y_train)):\n",
    "    xtr, xvl = x_train.iloc[tr_idx], x_train.iloc[vl_idx]\n",
    "    ytr, yvl = y_train.iloc[tr_idx], y_train.iloc[vl_idx]\n",
    "    sk_logit.fit(xtr, ytr)\n",
    "    a= sk_logit.predict_proba(xvl)[:, 1]\n",
    "    resultscv.append(a.astype('float'))\n",
    "    fp_rate, tp_rate, _ = metrics.roc_curve(yvl, a.astype('float'))\n",
    "    cv_auc[i] = metrics.auc(fp_rate, tp_rate)\n",
    "    print('\\tCV iter: {} with AUC={}'.format(i, cv_auc[i]))\n",
    "    print('Average AUC during cross-validation: {:.4f}'.format(np.nanmean(cv_auc, axis=0))) #how to avoid 0 to be\n",
    "    fpr, tpr, thresholds = metrics.roc_curve(yvl ,a, pos_label=0)\n",
    "    # Print ROC curve\n",
    "    plt.plot(tpr,fpr)\n",
    "    plt.plot([0, 1], [0, 1], \"r--\")\n",
    "    \n",
    "    \n",
    "plt.show()\n",
    "    \n",
    "   "
   ]
  },
  {
   "cell_type": "code",
   "execution_count": 316,
   "metadata": {},
   "outputs": [],
   "source": [
    "# Save results for comparison later! build average"
   ]
  },
  {
   "cell_type": "code",
   "execution_count": 317,
   "metadata": {},
   "outputs": [],
   "source": [
    "auc_results.append(np.mean(cv_auc))"
   ]
  },
  {
   "cell_type": "code",
   "execution_count": 318,
   "metadata": {},
   "outputs": [
    {
     "name": "stdout",
     "output_type": "stream",
     "text": [
      "[0.8362055191618544, 0.8503600850104839]\n"
     ]
    }
   ],
   "source": [
    "print(auc_results) #Change to data frame incl column names for better evaluation"
   ]
  },
  {
   "cell_type": "markdown",
   "metadata": {},
   "source": [
    "Looking at the curves of all models that have been developed, it should further deepen your understanding of the importance of model simulation and that different data leads to different results. You can always get a lucky sample. but make sure your model is robust."
   ]
  },
  {
   "cell_type": "markdown",
   "metadata": {},
   "source": [
    "# Regularizes Logit\n",
    "\n",
    "\n",
    "(add text here about Lasso and penalties in general)"
   ]
  },
  {
   "cell_type": "code",
   "execution_count": 319,
   "metadata": {},
   "outputs": [
    {
     "name": "stdout",
     "output_type": "stream",
     "text": [
      "Lasso test set AUC: 0.8291\n",
      "Grid-searching regularization parameter\n",
      "Lasso test set AUC with best paramter: 0.8362\n"
     ]
    }
   ],
   "source": [
    "# Trying to improve performance using regularized logit\n",
    "lasso = LogisticRegression(penalty='l1', C=0.1, fit_intercept=True, max_iter=200, solver='liblinear')\n",
    "lasso.fit(x_train, y_train)\n",
    "fp_rate, tp_rate, _ = metrics.roc_curve(y_test, lasso.predict_proba(x_test)[:, 1])\n",
    "print('Lasso test set AUC: {:.4f}'.format(metrics.auc(fp_rate, tp_rate)))\n",
    "\n",
    "# Try finding a better setting for penalty parameter C\n",
    "penalty_settings = {'C': [0.001, 0.003, 0.005, 0.01, 0.03, 0.05, 0.1, 0.3, 0.5, 1, 2, 3, 3, 4, 5, 10, 20]}\n",
    "print('Grid-searching regularization parameter')\n",
    "gs_lasso = GridSearchCV(lasso, penalty_settings, scoring='roc_auc', refit=True, cv=nfold)\n",
    "gs_lasso.fit(x_train, y_train)\n",
    "# Find test set auc of the best lasso model\n",
    "fp_rate, tp_rate, _ = metrics.roc_curve(y_test, gs_lasso.predict_proba(x_test)[:, 1])\n",
    "print('Lasso test set AUC with best paramter: {:.4f}'.format(metrics.auc(fp_rate, tp_rate)))\n"
   ]
  },
  {
   "cell_type": "code",
   "execution_count": 320,
   "metadata": {},
   "outputs": [],
   "source": [
    "auc_results.append(metrics.auc(fp_rate, tp_rate)) # save results"
   ]
  },
  {
   "cell_type": "markdown",
   "metadata": {},
   "source": [
    "Both regularized regression show a slight improvement in our predictions. But can we do more?\n",
    "\n",
    "\n",
    "## Random Forest\n",
    "\n",
    "The random forest algorithm is an ensemble algorithm, with the goal to predicts the outcome variable by learning simple decision rules from the data features. In the random forest algorithm is based on several models built using bootstrap samples of the training set(random samples with replacement) and different random sample of attributes. This means instead of using all data in our training set and all attributes, we build many models on smaller subsets of the data AND the attributes. This allows the algorithms to pick up on more attributes, as the most important ones are not part of each random subspace. The base models are supposed to stay simple to avoid overfitting. \n",
    "\n",
    "Step by step:\n",
    "- bootsrapping, create random subsets from training data\n",
    "- at each node, only a random set of features is considered for the best split\n",
    "- fit base model (usually decision tree)\n",
    "- repeat until chosen amount of base models is reached\n",
    "- average prediction of all trees and use this for evaluation\n",
    "\n",
    "Metaparamters in our rid search:\n",
    "n_estimators: number of trees in forest\n",
    "criterion: splitting function to use\n",
    "max_features : maximum features in random subspace\n",
    "max_depth: pruning parameter, maximum depth of decision tree\n",
    "\n",
    "\n",
    "\n",
    "Some more:\n",
    "min_samples_split: minimum number of samples required in leaf node before another split is made. If it is less, this node wont split.\n",
    "min_samples_leaf: minimum number of samples required to be at a leaf node.\n",
    "max_leaf_nodes: maximum number of leaf nodes in a tree\n",
    "n_jobs: parallelization of model building\n",
    "random_state:\n",
    "This parameter is used to define the random selection.\n",
    "It is used for comparison between various models."
   ]
  },
  {
   "cell_type": "code",
   "execution_count": 321,
   "metadata": {},
   "outputs": [
    {
     "name": "stdout",
     "output_type": "stream",
     "text": [
      "Tuning random forest classifier\n",
      "Fitting 5 folds for each of 24 candidates, totalling 120 fits\n"
     ]
    },
    {
     "name": "stderr",
     "output_type": "stream",
     "text": [
      "[Parallel(n_jobs=1)]: Using backend SequentialBackend with 1 concurrent workers.\n",
      "[Parallel(n_jobs=1)]: Done 120 out of 120 | elapsed: 17.1min finished\n"
     ]
    },
    {
     "name": "stdout",
     "output_type": "stream",
     "text": [
      "Best CV AUC: 0.9733\n",
      "Optimal RF meta-parameters:\n",
      "{'criterion': 'entropy', 'max_depth': 20, 'max_features': 1, 'n_estimators': 500}\n",
      "RF test set AUC: 0.9816\n"
     ]
    }
   ],
   "source": [
    "# Performance of tree-based ensemble algorithms in the form of random forest and gradient boosting\n",
    "# 1. Random forest\n",
    "print('Tuning random forest classifier')\n",
    "rf = RandomForestClassifier(random_state=123)\n",
    "\n",
    "# Define meta-parameter grid of candidate settings\n",
    "# The following settings are just for illustration\n",
    "param_grid = {'n_estimators': [500],\n",
    "              'max_features': [1, 2, 4, 6],\n",
    "              'max_depth': [5, 10, 20],\n",
    "              'criterion' :['gini', 'entropy']\n",
    "              }\n",
    "\n",
    "# Set up the grid object specifying the tuning options\n",
    "gs_rf = GridSearchCV(rf, param_grid, cv=5, scoring='roc_auc', verbose=1)\n",
    "gs_rf.fit(x_train, y_train)\n",
    "print(\"Best CV AUC: %0.4f\" % gs_rf.best_score_)\n",
    "print(\"Optimal RF meta-parameters:\")\n",
    "print(gs_rf.best_params_)\n",
    "# Find test set auc of the best random forest classifier\n",
    "fp_rate, tp_rate, _ = metrics.roc_curve(y_test, gs_rf.predict_proba(x_test)[:, 1])\n",
    "print('RF test set AUC: {:.4f}'.format(metrics.auc(fp_rate, tp_rate)))\n"
   ]
  },
  {
   "cell_type": "code",
   "execution_count": 322,
   "metadata": {},
   "outputs": [],
   "source": [
    "#save results\n",
    "auc_results.append(gs_rf.best_score_)\n",
    "auc_results.append(metrics.auc(fp_rate, tp_rate))"
   ]
  },
  {
   "cell_type": "markdown",
   "metadata": {},
   "source": [
    "What an improvement to our AUC. Both the cross validation as well as the AUC of the best parameters found in my grid search show great improvements. Evaluate the optimal meta-parameters. What conclusions can you draw? Make sure you understand the meaning of your metaparameters.\n",
    "\n",
    "\n",
    "# Grid Search and Metaparameter Tuning\n",
    "\n",
    "(add more info here)\n",
    "\n",
    "\n",
    "# XGBoost\n",
    "\n",
    "(add more info here)\n",
    "Link: https://towardsdatascience.com/https-medium-com-vishalmorde-xgboost-algorithm-long-she-may-rein-edd9f99be63d #ok?"
   ]
  },
  {
   "cell_type": "code",
   "execution_count": null,
   "metadata": {},
   "outputs": [
    {
     "name": "stdout",
     "output_type": "stream",
     "text": [
      "Fitting 5 folds for each of 60 candidates, totalling 300 fits\n"
     ]
    },
    {
     "name": "stderr",
     "output_type": "stream",
     "text": [
      "[Parallel(n_jobs=1)]: Using backend SequentialBackend with 1 concurrent workers.\n"
     ]
    }
   ],
   "source": [
    "# 2. Gradient boosting\n",
    "# todo add some comments on scikit-learn implementation versus xgboost module\n",
    "\n",
    "# XGBoost module recommends storing data in a different manner\n",
    "# DM_train = xgb.DMatrix(data=x_train, label=y_train)\n",
    "# DM_test = xgb.DMatrix(data=x_test, label=y_test)\n",
    "# Setting up the grid of xgb hyperparameters\n",
    "xgb_param_grid = {\n",
    "    'colsample_bytree': np.linspace(0.5, 0.9, 5),\n",
    "    'n_estimators': [100, 200],\n",
    "    'max_depth': [5, 10, 15],\n",
    "    'learning_rate': [0.1, 0.01],\n",
    "    'early_stopping_rounds': [10]\n",
    "}\n",
    "gs_xgb = GridSearchCV(estimator=xgb.XGBClassifier(), param_grid=xgb_param_grid, scoring='roc_auc', cv=5, verbose=1)\n",
    "gs_xgb.fit(x_train, y_train)\n",
    "print(\"Best CV AUC: %0.4f\" % gs_xgb.best_score_)\n",
    "print(\"Optimal XGB meta-parameters:\")\n",
    "print(gs_xgb.best_params_)\n",
    "# Find test set auc of the best random forest classifier\n",
    "fp_rate, tp_rate, _ = metrics.roc_curve(y_test, gs_xgb.predict_proba(x_test)[:, 1])\n",
    "print('XGB test set AUC: {:.4f}'.format(metrics.auc(fp_rate, tp_rate)))\n"
   ]
  },
  {
   "cell_type": "code",
   "execution_count": null,
   "metadata": {},
   "outputs": [],
   "source": [
    "auc_results.append( gs_xgb.best_score_)\n",
    "auc_results.append(metrics.auc(fp_rate, tp_rate))"
   ]
  },
  {
   "cell_type": "markdown",
   "metadata": {},
   "source": [
    "## Feature Importance\n",
    "\n",
    "(add info here)"
   ]
  },
  {
   "cell_type": "code",
   "execution_count": null,
   "metadata": {},
   "outputs": [],
   "source": [
    "rcParams['figure.figsize'] = 20, 10\n",
    "\n",
    "# Permutation-based variable importance\n",
    "print('Computing permutation-based feature importance...')\n",
    "from sklearn.inspection import permutation_importance\n",
    "\n",
    "classifier = gs_rf.best_estimator_\n",
    "perm_imp = permutation_importance(classifier, x_test, y_test, scoring='roc_auc', random_state=123)\n",
    "sorted_idx = perm_imp.importances_mean.argsort()\n",
    "\n",
    "fig, ax = plt.subplots()\n",
    "ax.boxplot(perm_imp.importances[sorted_idx].T,\n",
    "           vert=False, labels=x_test.columns[sorted_idx])\n",
    "ax.set_title(\"Permutation importance (test set) of {}\".format(str(classifier)[0:str(classifier).find('(')]))\n",
    "fig.tight_layout()\n",
    "plt.show()\n"
   ]
  },
  {
   "cell_type": "code",
   "execution_count": null,
   "metadata": {},
   "outputs": [],
   "source": [
    "rcParams['figure.figsize'] = 20,40\n",
    "# Partial dependence\n",
    "from sklearn.inspection import plot_partial_dependence\n",
    "\n",
    "print('Computing partial dependence plots...')\n",
    "features = x_train.columns\n",
    "plot_partial_dependence(classifier, x_train, features, n_jobs=3, grid_resolution=20)\n",
    "# print(\"done in {:.3f}s\".format(time() - tic))\n",
    "fig = plt.gcf()\n",
    "fig.suptitle('Partial dependence')\n",
    "fig.subplots_adjust(wspace=0.4, hspace=0.3)\n",
    "plt.show()\n"
   ]
  },
  {
   "cell_type": "code",
   "execution_count": null,
   "metadata": {},
   "outputs": [],
   "source": [
    "#added, just for more info \n",
    "\n",
    "ranks = {}\n",
    "from sklearn.preprocessing import MinMaxScaler\n",
    "def ranking(ranks, names, order=1):\n",
    "    minmax = MinMaxScaler()\n",
    "    ranks = minmax.fit_transform(order*np.array([ranks]).T).T[0]\n",
    "    ranks = map(lambda x: round(x,2), ranks)\n",
    "    return dict(zip(names, ranks))\n",
    "\n",
    "from sklearn.feature_selection import RFE\n",
    "# Construct our Linear Regression model\n",
    "lr = LogisticRegression(max_iter=1000)\n",
    "lr.fit(x_train,y_train)\n",
    "#stop the search when only the last feature is left\n",
    "rfe = RFE(lr, n_features_to_select=1, verbose =3 )\n",
    "rfe.fit(x_train,y_train)\n",
    "ranks[\"RFE\"] = ranking(list(map(float, rfe.ranking_)), x_train.columns, order=-1);"
   ]
  },
  {
   "cell_type": "code",
   "execution_count": null,
   "metadata": {},
   "outputs": [],
   "source": [
    "# Put the mean scores into a Pandas dataframe\n",
    "meanplot = pd.DataFrame(list(r.items()), columns= ['Feature','Ranking'])\n",
    "\n",
    "# Sort the dataframe\n",
    "meanplot = meanplot.sort_values('Ranking', ascending=False)"
   ]
  },
  {
   "cell_type": "code",
   "execution_count": null,
   "metadata": {},
   "outputs": [],
   "source": [
    "colnames =x_train.columns\n",
    "r = {}\n",
    "for name in colnames:\n",
    "    r[name] = round(np.mean([ranks[method][name] \n",
    "                             for method in ranks.keys()]), 2)\n",
    " \n",
    "methods = sorted(ranks.keys())\n",
    "ranks[\"Mean\"] = r\n",
    "methods.append(\"Mean\")\n",
    " \n",
    "print(\"\\t%s\" % \"\\t\".join(methods))\n",
    "for name in colnames:\n",
    "    print(\"%s\\t%s\" % (name, \"\\t\".join(map(str, \n",
    "                         [ranks[method][name] for method in methods]))))"
   ]
  },
  {
   "cell_type": "code",
   "execution_count": null,
   "metadata": {},
   "outputs": [],
   "source": [
    "import seaborn as sns \n",
    "ranktemp = pd.DataFrame(list(r.items()), columns= ['Feature','Ranking'])\n",
    "\n",
    "# Sort the dataframe\n",
    "ranktemp = ranktemp.sort_values('Ranking', ascending=False)\n",
    "# Let's plot the ranking of the features\n",
    "sns.catplot(x=\"Ranking\", y=\"Feature\", data = meanplot, kind=\"bar\", \n",
    "            height=14, aspect=1.9, palette='coolwarm');\n"
   ]
  },
  {
   "cell_type": "markdown",
   "metadata": {},
   "source": [
    "Things to do:  Save data appropriately for evaluation\n",
    "               Algorithm evaluation\n",
    "               Proof read\n",
    "               Add text where mentioned\n",
    "               Mean CV Roc Curve Plot\n",
    "               Format markdown text consistently"
   ]
  },
  {
   "cell_type": "code",
   "execution_count": null,
   "metadata": {},
   "outputs": [],
   "source": []
  },
  {
   "cell_type": "code",
   "execution_count": null,
   "metadata": {},
   "outputs": [],
   "source": []
  }
 ],
 "metadata": {
  "kernelspec": {
   "display_name": "Python 3",
   "language": "python",
   "name": "python3"
  },
  "language_info": {
   "codemirror_mode": {
    "name": "ipython",
    "version": 3
   },
   "file_extension": ".py",
   "mimetype": "text/x-python",
   "name": "python",
   "nbconvert_exporter": "python",
   "pygments_lexer": "ipython3",
   "version": "3.7.6"
  }
 },
 "nbformat": 4,
 "nbformat_minor": 4
}
